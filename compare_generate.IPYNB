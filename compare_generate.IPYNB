{
 "cells": [
  {
   "cell_type": "code",
   "execution_count": 1,
   "source": [
    "from ctrl.modeling import CTRLLMHeadModel as PDCTRLLMHeadModel\n",
    "from transformers import CTRLLMHeadModel as PTCTRLLMHeadModel\n",
    "import paddle\n",
    "import torch\n",
    "torch.set_grad_enabled(False)\n",
    "paddle.set_grad_enabled(False)\n",
    "paddle.set_device(\"cpu\")\n",
    "def compare(a, b):\n",
    "    a = torch.tensor(a.numpy()).float()\n",
    "    b = torch.tensor(b.numpy()).float()\n",
    "    meandif = (a - b).abs().mean()\n",
    "    maxdif = (a - b).abs().max()\n",
    "    print(\"mean difference:\", meandif)\n",
    "    print(\"max difference:\", maxdif)"
   ],
   "outputs": [
    {
     "output_type": "stream",
     "name": "stderr",
     "text": [
      "C:\\Users\\yujun\\AppData\\Local\\Programs\\Python\\Python37\\lib\\site-packages\\urllib3\\util\\selectors.py:14: DeprecationWarning: Using or importing the ABCs from 'collections' instead of from 'collections.abc' is deprecated, and in 3.8 it will stop working\n",
      "  from collections import namedtuple, Mapping\n",
      "C:\\Users\\yujun\\AppData\\Local\\Programs\\Python\\Python37\\lib\\site-packages\\urllib3\\_collections.py:2: DeprecationWarning: Using or importing the ABCs from 'collections' instead of from 'collections.abc' is deprecated, and in 3.8 it will stop working\n",
      "  from collections import Mapping, MutableMapping\n",
      "C:\\Users\\yujun\\AppData\\Local\\Programs\\Python\\Python37\\lib\\site-packages\\_distutils_hack\\__init__.py:19: UserWarning: Distutils was imported before Setuptools. This usage is discouraged and may exhibit undesirable behaviors or errors. Please use Setuptools' objects directly or at least import Setuptools first.\n",
      "  \"Distutils was imported before Setuptools. This usage is discouraged \"\n"
     ]
    }
   ],
   "metadata": {}
  },
  {
   "cell_type": "code",
   "execution_count": 2,
   "source": [
    "pdmodel = PDCTRLLMHeadModel.from_pretrained(\"./pd/sshleifer-tiny-ctrl\")\n",
    "pdmodel.eval()\n",
    "ptmodel = PTCTRLLMHeadModel.from_pretrained(\"./hg/sshleifer-tiny-ctrl\")\n",
    "ptmodel.eval()\n",
    "print(\"\")"
   ],
   "outputs": [
    {
     "output_type": "stream",
     "name": "stdout",
     "text": [
      "\n"
     ]
    }
   ],
   "metadata": {}
  },
  {
   "cell_type": "code",
   "execution_count": 3,
   "source": [
    "output1 = pdmodel.generate(paddle.to_tensor([[2,3,5,7,92,1]]).astype(\"int64\"),decode_strategy='beam_search',num_beams=4,early_stopping=True)[0]"
   ],
   "outputs": [],
   "metadata": {}
  },
  {
   "cell_type": "code",
   "execution_count": 4,
   "source": [
    "output2 = ptmodel.generate(torch.tensor([[2,3,5,7,92,1]]).long(),decode_strategy='beam_search',num_beams=4,early_stop=True)"
   ],
   "outputs": [],
   "metadata": {}
  },
  {
   "cell_type": "code",
   "execution_count": 5,
   "source": [
    "output1"
   ],
   "outputs": [
    {
     "output_type": "execute_result",
     "data": {
      "text/plain": [
       "Tensor(shape=[1, 20], dtype=int64, place=CPUPlace, stop_gradient=True,\n",
       "       [[115731, 115731, 115731, 210812, 210812, 13362 , 13362 , 41539 , 41539 , 64579 , 64579 , 40586 , 66462 , 66462 , 184545, 82990 , 82990 , 50794 , 50794 , 12940 ]])"
      ]
     },
     "metadata": {},
     "execution_count": 5
    }
   ],
   "metadata": {}
  },
  {
   "cell_type": "code",
   "execution_count": 6,
   "source": [
    "output2"
   ],
   "outputs": [
    {
     "output_type": "execute_result",
     "data": {
      "text/plain": [
       "tensor([[     2,      3,      5,      7,     92,      1, 115731, 115731, 115731,\n",
       "         210812, 210812,  13362,  13362,  41539,  41539,  64579,  64579,  40586,\n",
       "          66462,  66462]])"
      ]
     },
     "metadata": {},
     "execution_count": 6
    }
   ],
   "metadata": {}
  },
  {
   "cell_type": "code",
   "execution_count": 7,
   "source": [
    "compare(output1[:,:14],output2[:,6:])"
   ],
   "outputs": [
    {
     "output_type": "stream",
     "name": "stdout",
     "text": [
      "mean difference: tensor(0.)\n",
      "max difference: tensor(0.)\n"
     ]
    }
   ],
   "metadata": {}
  }
 ],
 "metadata": {
  "orig_nbformat": 4,
  "language_info": {
   "name": "python",
   "version": "3.7.3",
   "mimetype": "text/x-python",
   "codemirror_mode": {
    "name": "ipython",
    "version": 3
   },
   "pygments_lexer": "ipython3",
   "nbconvert_exporter": "python",
   "file_extension": ".py"
  },
  "kernelspec": {
   "name": "python3",
   "display_name": "Python 3.7.3 64-bit"
  },
  "interpreter": {
   "hash": "086317466957d500e1e3add5d1080e4cde135e955220d9fc98fd7fe59df8a909"
  }
 },
 "nbformat": 4,
 "nbformat_minor": 2
}