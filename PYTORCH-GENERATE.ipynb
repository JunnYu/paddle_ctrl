{
 "cells": [
  {
   "cell_type": "code",
   "execution_count": 1,
   "id": "215ed710-d21b-4e74-b135-2f32d828bd5a",
   "metadata": {},
   "outputs": [],
   "source": [
    "from transformers import CTRLLMHeadModel as PTCTRLLMHeadModel,CTRLTokenizer\n",
    "import torch\n",
    "torch.set_grad_enabled(False)\n",
    "ptmodel = PTCTRLLMHeadModel.from_pretrained(\"./hg/ctrl\").cuda()\n",
    "ptmodel.eval()\n",
    "hg_tokenizer = CTRLTokenizer.from_pretrained(\"./hg/ctrl\")"
   ]
  },
  {
   "cell_type": "code",
   "execution_count": 2,
   "id": "e5cabc0d-0fcf-48d6-ac61-405522e833d3",
   "metadata": {},
   "outputs": [],
   "source": [
    "input_text_list = [\n",
    "    \"Diet English : I lost 10 kgs! ; German : \",\n",
    "    \"Reviews Rating: 5.0\",\n",
    "    \"Questions Q: What is the capital of India?\",\n",
    "    \"Books Weary with toil, I haste me to my bed,\"\n",
    "]"
   ]
  },
  {
   "cell_type": "code",
   "execution_count": 3,
   "id": "20ab5556-8823-498b-8f76-81940aa3fa76",
   "metadata": {},
   "outputs": [
    {
     "name": "stdout",
     "output_type": "stream",
     "text": [
      "Diet English : I lost 10 kgs! ; German : Ich habe zehn Kilogramm abgenommen! \n",
      " \n",
      " Als ich das erste Mal mit meinem Smartphone war, war es ein wenig schwierig zu finden, wo man die App herunterladen kann. Aber jetzt ist sie da. \n",
      " \n",
      " Das Smartphone hat mich auch sehr beeindruckt. Es machte mir viel Spaß. Und so funktioniert mein Leben heute ganz einfach und ohne große Probleme. \n",
      " \n",
      " Mein Fazit: Wenn du deine Apps auf dem iPhone oder Android\n",
      "==================================================\n",
      "Reviews Rating: 5.0 \n",
      " I have been using this product for a few years now and it is the best thing on the market to keep your teeth white. It does not taste bad at all like some of these other products do. The only problem with this product is that you need to use it every day or else they will start coming back in after about 2 weeks. But if you do that, then it's worth it. You can also buy them from Amazon but shipping takes forever. So just make sure you order enough so you don't run out. \n",
      " Rating: 5.0 \n",
      " This stuff works great. My dentist recommended it, and I'm glad he did. It's easy to use, tastes good, and\n",
      "==================================================\n",
      "Questions Q: What is the capital of India? \n",
      " A: mumbai. \n",
      " Q: Who was a British politician who served as Prime Minister from 1922 to 1924? \n",
      " A: edward viibert \n",
      " Q: The name of which city in New South Wales has been used for many years by the Australian National Football team? \n",
      " A: sydney \n",
      " Q: Which American actor starred with his wife and daughter on the television series 'Family Affair'? \n",
      " A: james coburn \n",
      " Q: In what year did the first edition of this book appear? \n",
      " A: 1962 \n",
      " Q: How long does it take to make one pound of sausage? \n",
      " A: 24 hours\n",
      "==================================================\n",
      "Books Weary with toil, I haste me to my bed, \n",
      " And sleep till the morning of life is come. \n",
      " The sun has risen and his beams are bright, \n",
      " But still he shines upon a world forlorn; \n",
      " He sees no more its joys or griefs below, \n",
      " Nor hears their murmur as they pass below. \n",
      " My heart grows weary for the world's delight, \n",
      " For all that makes it dear in human eyes; \n",
      " It feels like one who wanders through an empty land, \n",
      " With nothing left but desolation there. \n",
      " O God! how long shall this be mine abode, \n",
      " Where every joy hath passed away from me? \n",
      " How long, O God, must I thus wander here, \n",
      " In sorrow\n",
      "==================================================\n"
     ]
    }
   ],
   "source": [
    "for inputs_text in input_text_list:\n",
    "    inputs = torch.tensor([hg_tokenizer(inputs_text)[\"input_ids\"]],dtype=torch.long).cuda()\n",
    "    outputs = ptmodel.generate(inputs,max_length=128,repetition_penalty=1.2,temperature=0)[0]\n",
    "    decode_outputs = hg_tokenizer.decode(outputs.cpu())\n",
    "    print(f\"{decode_outputs}\")\n",
    "    print(\"=\"*50)"
   ]
  }
 ],
 "metadata": {
  "kernelspec": {
   "display_name": "Python 3",
   "language": "python",
   "name": "python3"
  },
  "language_info": {
   "codemirror_mode": {
    "name": "ipython",
    "version": 3
   },
   "file_extension": ".py",
   "mimetype": "text/x-python",
   "name": "python",
   "nbconvert_exporter": "python",
   "pygments_lexer": "ipython3",
   "version": "3.8.10"
  }
 },
 "nbformat": 4,
 "nbformat_minor": 5
}
